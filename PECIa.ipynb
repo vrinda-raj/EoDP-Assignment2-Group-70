{
 "cells": [
  {
   "cell_type": "code",
   "execution_count": 93,
   "metadata": {},
   "outputs": [],
   "source": [
    "import pandas as pd\n",
    "\n",
    "# PART A FINDING CHANGE IN CRIME AND POPULATION #\n",
    "temp = pd.read_csv('Combined.csv')\n",
    "temp = temp.sort_values('Police_Region')\n",
    "\n",
    "# Removing commas in all the columns for crime or population #\n",
    "\n",
    "temp = temp.replace(',','', regex=True)\n",
    "temp.loc[:,'2011_crime':'2020_crime'] = temp.loc[:,'2011_crime':'2020_crime'].astype(float)\n",
    "temp.loc[:,'2011_population':'2020_population'] = temp.loc[:,'2011_population':'2020_population'].astype(float)\n",
    "\n",
    "# Calculating rate of change for years 2011-2020 #\n",
    "\n",
    "# Note CC for change in crime #\n",
    "\n",
    "temp['CC_2012'] = temp['2012_crime']-temp['2011_crime']\n",
    "temp['CC_2013'] = temp['2013_crime']-temp['2012_crime']\n",
    "temp['CC_2014'] = temp['2014_crime']-temp['2013_crime']\n",
    "temp['CC_2015'] = temp['2015_crime']-temp['2014_crime']\n",
    "temp['CC_2016'] = temp['2016_crime']-temp['2015_crime']\n",
    "temp['CC_2017'] = temp['2017_crime']-temp['2016_crime']\n",
    "temp['CC_2018'] = temp['2018_crime']-temp['2017_crime']\n",
    "temp['CC_2019'] = temp['2019_crime']-temp['2018_crime']\n",
    "temp['CC_2020'] = temp['2020_crime']-temp['2019_crime']\n",
    "\n",
    "# Note CP for change in population #\n",
    "\n",
    "temp['CP_2012'] = temp['2012_population']-temp['2011_population']\n",
    "temp['CP_2013'] = temp['2013_population']-temp['2012_population']\n",
    "temp['CP_2014'] = temp['2014_population']-temp['2013_population']\n",
    "temp['CP_2015'] = temp['2015_population']-temp['2014_population']\n",
    "temp['CP_2016'] = temp['2016_population']-temp['2015_population']\n",
    "temp['CP_2017'] = temp['2017_population']-temp['2016_population']\n",
    "temp['CP_2018'] = temp['2018_population']-temp['2017_population']\n",
    "temp['CP_2019'] = temp['2019_population']-temp['2018_population']\n",
    "temp['CP_2020'] = temp['2020_population']-temp['2019_population']\n",
    "\n",
    "\n",
    "# Making new data frame with differences \n",
    "\n",
    "df = temp[['Police_Region','LGA_crime','CP_2012',\n",
    "           'CP_2013','CP_2014','CP_2015','CP_2016','CP_2017','CP_2018','CP_2019','CP_2020',\n",
    "           'CC_2012','CC_2013','CC_2014','CC_2015','CC_2016','CC_2017','CC_2018','CC_2019','CC_2020']]\n",
    "\n",
    "df.to_csv('change.csv', index=False)\n",
    "\n",
    "\n",
    "\n"
   ]
  },
  {
   "cell_type": "code",
   "execution_count": null,
   "metadata": {},
   "outputs": [],
   "source": []
  }
 ],
 "metadata": {
  "kernelspec": {
   "display_name": "Python 3",
   "language": "python",
   "name": "python3"
  },
  "language_info": {
   "codemirror_mode": {
    "name": "ipython",
    "version": 3
   },
   "file_extension": ".py",
   "mimetype": "text/x-python",
   "name": "python",
   "nbconvert_exporter": "python",
   "pygments_lexer": "ipython3",
   "version": "3.7.4"
  }
 },
 "nbformat": 4,
 "nbformat_minor": 4
}
