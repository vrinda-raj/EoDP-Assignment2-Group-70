{
 "cells": [
  {
   "cell_type": "code",
   "execution_count": 26,
   "metadata": {},
   "outputs": [],
   "source": [
    "import pandas as pd\n",
    "\n",
    "# PART B CALCULATING ALL THE DATA FOR THE PLOT #\n",
    "\n",
    "temp = pd.read_csv('change.csv')\n",
    "data['Police_Region'] = temp[['Police_Region']]\n",
    "data['LGA_crime'] = temp[['LGA_crime']]\n",
    "data = data[['Police_Region','LGA_crime']]\n",
    "\n",
    "# Calculating Y Axis (change in crime / change in population in each year from 2012-2020) #\n",
    "\n",
    "data['2012'] = temp['CC_2012'].divide(temp['CP_2012'])\n",
    "data['2013'] = temp['CC_2013'].divide(temp['CP_2013'])\n",
    "data['2014'] = temp['CC_2014'].divide(temp['CP_2014'])\n",
    "data['2015'] = temp['CC_2015'].divide(temp['CP_2015'])\n",
    "data['2016'] = temp['CC_2016'].divide(temp['CP_2016'])\n",
    "data['2017'] = temp['CC_2017'].divide(temp['CP_2017'])\n",
    "data['2018'] = temp['CC_2018'].divide(temp['CP_2018'])\n",
    "data['2019'] = temp['CC_2019'].divide(temp['CP_2019'])\n",
    "data['2020'] = temp['CC_2020'].divide(temp['CP_2020'])\n",
    "\n",
    "# Seperating the information into 4 csv files and one big main one #\n",
    "\n",
    "data.to_csv('data.csv', index=False)\n",
    "\n",
    "data.loc[0:13].to_csv('1 North West Metro.csv', index=False)\n",
    "data.loc[14:38].to_csv('2 Eastern.csv', index=False)\n",
    "data.loc[39:48].to_csv('3 Southern Metro.csv', index=False)\n",
    "data.loc[49:].to_csv('4 Western.csv', index=False)"
   ]
  },
  {
   "cell_type": "code",
   "execution_count": null,
   "metadata": {},
   "outputs": [],
   "source": []
  },
  {
   "cell_type": "code",
   "execution_count": null,
   "metadata": {},
   "outputs": [],
   "source": []
  }
 ],
 "metadata": {
  "kernelspec": {
   "display_name": "Python 3",
   "language": "python",
   "name": "python3"
  },
  "language_info": {
   "codemirror_mode": {
    "name": "ipython",
    "version": 3
   },
   "file_extension": ".py",
   "mimetype": "text/x-python",
   "name": "python",
   "nbconvert_exporter": "python",
   "pygments_lexer": "ipython3",
   "version": "3.7.4"
  }
 },
 "nbformat": 4,
 "nbformat_minor": 4
}
