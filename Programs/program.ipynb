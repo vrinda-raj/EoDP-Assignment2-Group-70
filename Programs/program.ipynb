{
 "metadata": {
  "language_info": {
   "codemirror_mode": {
    "name": "ipython",
    "version": 3
   },
   "file_extension": ".py",
   "mimetype": "text/x-python",
   "name": "python",
   "nbconvert_exporter": "python",
   "pygments_lexer": "ipython3",
   "version": "3.8.5"
  },
  "orig_nbformat": 2,
  "kernelspec": {
   "name": "python385jvsc74a57bd0b14367cf11ed1b7ed08aa41b3024dd2f4dc84f5993d9bcfdd6623adfb0780174",
   "display_name": "Python 3.8.5 64-bit ('base': conda)"
  }
 },
 "nbformat": 4,
 "nbformat_minor": 2,
 "cells": [
  {
   "cell_type": "code",
   "execution_count": 83,
   "metadata": {},
   "outputs": [],
   "source": [
    "import pandas as pd\n",
    "from pandasql import sqldf"
   ]
  },
  {
   "cell_type": "code",
   "execution_count": 84,
   "metadata": {},
   "outputs": [],
   "source": [
    "crime = pd.read_csv('Data/CI_LGA.csv', encoding = 'UTF-8')\n",
    "crime = crime.loc[1:82,:]\n",
    "crime.columns = ['Police_Region', 'LGA', '2011', '2012', '2013', '2014', '2015', '2016', '2017', '2018', '2019', '2020']\n",
    "crime = crime.sort_values(by = 'LGA', ascending = True)\n",
    "crime = crime.reset_index()\n",
    "crime = crime.loc[:78,:]"
   ]
  },
  {
   "cell_type": "code",
   "execution_count": 85,
   "metadata": {},
   "outputs": [],
   "source": [
    "population = pd.read_csv('Data/POP_LGA.csv', encoding = 'UTF-8')\n",
    "population = population.loc[6:84,:]\n",
    "population.columns = ['LGA', 'ERP', '2001', '2002', '2003', '2004', '2005', '2006', '2007', '2008', '2009', '2010', '2011', '2012', '2013', '2014', '2015', '2016', '2017', '2018', '2019', '2020']\n",
    "population = population.drop(columns = 'ERP')\n",
    "population = population.reset_index()"
   ]
  },
  {
   "cell_type": "code",
   "execution_count": 87,
   "metadata": {},
   "outputs": [],
   "source": [
    "combined = crime.join(population, lsuffix='_crime', rsuffix='_population')"
   ]
  },
  {
   "cell_type": "code",
   "execution_count": 82,
   "metadata": {},
   "outputs": [],
   "source": [
    "combined.to_csv(path_or_buf = 'Data/Combined.csv', index=False)"
   ]
  }
 ]
}